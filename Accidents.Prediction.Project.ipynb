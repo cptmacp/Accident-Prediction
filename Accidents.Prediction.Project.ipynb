{
 "cells": [
  {
   "cell_type": "code",
   "execution_count": 71,
   "metadata": {},
   "outputs": [
    {
     "name": "stdout",
     "output_type": "stream",
     "text": [
      "The dataset has 36314 rows and 10 columns\n"
     ]
    },
    {
     "data": {
      "text/html": [
       "<div>\n",
       "<style scoped>\n",
       "    .dataframe tbody tr th:only-of-type {\n",
       "        vertical-align: middle;\n",
       "    }\n",
       "\n",
       "    .dataframe tbody tr th {\n",
       "        vertical-align: top;\n",
       "    }\n",
       "\n",
       "    .dataframe thead th {\n",
       "        text-align: right;\n",
       "    }\n",
       "</style>\n",
       "<table border=\"1\" class=\"dataframe\">\n",
       "  <thead>\n",
       "    <tr style=\"text-align: right;\">\n",
       "      <th></th>\n",
       "      <th>wkt_geom</th>\n",
       "      <th>code</th>\n",
       "      <th>severity</th>\n",
       "      <th>time</th>\n",
       "      <th>lat</th>\n",
       "      <th>desc</th>\n",
       "      <th>lon</th>\n",
       "      <th>name</th>\n",
       "      <th>clust</th>\n",
       "      <th>NN</th>\n",
       "    </tr>\n",
       "  </thead>\n",
       "  <tbody>\n",
       "    <tr>\n",
       "      <th>0</th>\n",
       "      <td>POINT(6119950.59451242536306381 1886366.970110...</td>\n",
       "      <td>201</td>\n",
       "      <td>2</td>\n",
       "      <td>04/10/13 08:00 AM</td>\n",
       "      <td>77.165655</td>\n",
       "      <td>NaN</td>\n",
       "      <td>26.984052</td>\n",
       "      <td>Accident(s)</td>\n",
       "      <td>31</td>\n",
       "      <td>11</td>\n",
       "    </tr>\n",
       "    <tr>\n",
       "      <th>1</th>\n",
       "      <td>POINT(6163265.98209197819232941 2195198.763392...</td>\n",
       "      <td>201</td>\n",
       "      <td>2</td>\n",
       "      <td>04/10/13 05:30 PM</td>\n",
       "      <td>78.015568</td>\n",
       "      <td>NaN</td>\n",
       "      <td>27.117024</td>\n",
       "      <td>Accident(s)</td>\n",
       "      <td>14</td>\n",
       "      <td>3</td>\n",
       "    </tr>\n",
       "    <tr>\n",
       "      <th>2</th>\n",
       "      <td>POINT(6156011.13359668850898743 2064637.280291...</td>\n",
       "      <td>201</td>\n",
       "      <td>3</td>\n",
       "      <td>04/10/13 05:55 PM</td>\n",
       "      <td>77.656750</td>\n",
       "      <td>NaN</td>\n",
       "      <td>27.098630</td>\n",
       "      <td>Accident(s)</td>\n",
       "      <td>11</td>\n",
       "      <td>52</td>\n",
       "    </tr>\n",
       "    <tr>\n",
       "      <th>3</th>\n",
       "      <td>POINT(6040154.25608104187995195 2127971.038348...</td>\n",
       "      <td>201</td>\n",
       "      <td>3</td>\n",
       "      <td>04/10/13 06:17 PM</td>\n",
       "      <td>77.825210</td>\n",
       "      <td>NaN</td>\n",
       "      <td>26.694260</td>\n",
       "      <td>Accident(s)</td>\n",
       "      <td>28</td>\n",
       "      <td>11</td>\n",
       "    </tr>\n",
       "    <tr>\n",
       "      <th>4</th>\n",
       "      <td>POINT(6160755.65850416570901871 2058394.601888...</td>\n",
       "      <td>243</td>\n",
       "      <td>3</td>\n",
       "      <td>04/10/13 06:19 PM</td>\n",
       "      <td>77.639801</td>\n",
       "      <td>NaN</td>\n",
       "      <td>27.115337</td>\n",
       "      <td>Accident. Left lane blocked</td>\n",
       "      <td>11</td>\n",
       "      <td>51</td>\n",
       "    </tr>\n",
       "  </tbody>\n",
       "</table>\n",
       "</div>"
      ],
      "text/plain": [
       "                                            wkt_geom  code  severity  \\\n",
       "0  POINT(6119950.59451242536306381 1886366.970110...   201         2   \n",
       "1  POINT(6163265.98209197819232941 2195198.763392...   201         2   \n",
       "2  POINT(6156011.13359668850898743 2064637.280291...   201         3   \n",
       "3  POINT(6040154.25608104187995195 2127971.038348...   201         3   \n",
       "4  POINT(6160755.65850416570901871 2058394.601888...   243         3   \n",
       "\n",
       "                time        lat  desc        lon                         name  \\\n",
       "0  04/10/13 08:00 AM  77.165655   NaN  26.984052                  Accident(s)   \n",
       "1  04/10/13 05:30 PM  78.015568   NaN  27.117024                  Accident(s)   \n",
       "2  04/10/13 05:55 PM  77.656750   NaN  27.098630                  Accident(s)   \n",
       "3  04/10/13 06:17 PM  77.825210   NaN  26.694260                  Accident(s)   \n",
       "4  04/10/13 06:19 PM  77.639801   NaN  27.115337  Accident. Left lane blocked   \n",
       "\n",
       "   clust  NN  \n",
       "0     31  11  \n",
       "1     14   3  \n",
       "2     11  52  \n",
       "3     28  11  \n",
       "4     11  51  "
      ]
     },
     "execution_count": 71,
     "metadata": {},
     "output_type": "execute_result"
    }
   ],
   "source": [
    "\n",
    "%matplotlib inline\n",
    "import warnings\n",
    "warnings.filterwarnings('ignore')\n",
    "import pandas as pd\n",
    "import numpy as np\n",
    "import matplotlib.pyplot as plt\n",
    "import seaborn as sns\n",
    "\n",
    "path = \"C:/Users/Rahul/Desktop/Desktop Items/Study/notes vi & vii sem/DM project/Project DM/\"\n",
    "df = pd.read_csv( path + \"accidents.csv\" )\n",
    "print (\"The dataset has %d rows and %d columns\" % (df.shape[0] , df.shape[1]))\n",
    "df.head()\n",
    "\n",
    "\n",
    "#df = df.drop(['desc'], axis=1)\n",
    "#df['lat'] = df['lat'] + 40\n",
    "#df['lon'] = df['lon'] + 149\n",
    "#df['desc'] = 'NA'\n",
    "#df.to_csv('export.csv',index=False )\n"
   ]
  },
  {
   "cell_type": "code",
   "execution_count": 72,
   "metadata": {},
   "outputs": [
    {
     "data": {
      "image/png": "[encoded data removed]",
      "text/plain": [
       "<Figure size 432x288 with 1 Axes>"
      ]
     },
     "metadata": {
      "needs_background": "light"
     },
     "output_type": "display_data"
    }
   ],
   "source": [
    "#characterstick graph\n",
    "#severity vs count\n",
    "\n",
    "sns.countplot(y = \"severity\" , data = df )\n",
    "plt.tight_layout()"
   ]
  },
  {
   "cell_type": "code",
   "execution_count": 73,
   "metadata": {},
   "outputs": [
    {
     "data": {
      "text/html": [
       "<div>\n",
       "<style scoped>\n",
       "    .dataframe tbody tr th:only-of-type {\n",
       "        vertical-align: middle;\n",
       "    }\n",
       "\n",
       "    .dataframe tbody tr th {\n",
       "        vertical-align: top;\n",
       "    }\n",
       "\n",
       "    .dataframe thead th {\n",
       "        text-align: right;\n",
       "    }\n",
       "</style>\n",
       "<table border=\"1\" class=\"dataframe\">\n",
       "  <thead>\n",
       "    <tr style=\"text-align: right;\">\n",
       "      <th></th>\n",
       "      <th>count</th>\n",
       "    </tr>\n",
       "  </thead>\n",
       "  <tbody>\n",
       "    <tr>\n",
       "      <th>2</th>\n",
       "      <td>20944</td>\n",
       "    </tr>\n",
       "    <tr>\n",
       "      <th>3</th>\n",
       "      <td>15296</td>\n",
       "    </tr>\n",
       "    <tr>\n",
       "      <th>4</th>\n",
       "      <td>54</td>\n",
       "    </tr>\n",
       "    <tr>\n",
       "      <th>1</th>\n",
       "      <td>19</td>\n",
       "    </tr>\n",
       "    <tr>\n",
       "      <th>0</th>\n",
       "      <td>1</td>\n",
       "    </tr>\n",
       "  </tbody>\n",
       "</table>\n",
       "</div>"
      ],
      "text/plain": [
       "   count\n",
       "2  20944\n",
       "3  15296\n",
       "4     54\n",
       "1     19\n",
       "0      1"
      ]
     },
     "execution_count": 73,
     "metadata": {},
     "output_type": "execute_result"
    }
   ],
   "source": [
    "#here we check for outlier and boundries\n",
    "\n",
    "pd.DataFrame( {\"count\": df[\"severity\"].value_counts().values } , index = df[\"severity\"].value_counts().index )"
   ]
  },
  {
   "cell_type": "markdown",
   "metadata": {},
   "source": [
    "<b> > The dataset is very unbalanced so we remove the rows with severity = 0 , 1 or 4 </b>"
   ]
  },
  {
   "cell_type": "code",
   "execution_count": 74,
   "metadata": {},
   "outputs": [],
   "source": [
    "df = df.loc[df[\"severity\"] >  1].loc[df[\"severity\"] < 4]"
   ]
  },
  {
   "cell_type": "markdown",
   "metadata": {},
   "source": [
    "<b> > Pre-Processing the time features: creating months, weekday year and hour features\n",
    "<br>> because we cant use time directly , its in DD:MM:YY HH:MM:SS format \n",
    "</b>"
   ]
  },
  {
   "cell_type": "code",
   "execution_count": 75,
   "metadata": {},
   "outputs": [],
   "source": [
    "df[\"month\"] = df[\"time\"].apply(lambda x:int(x[:2]))\n",
    "df[\"day\"] = df[\"time\"].apply(lambda x:int(x[3:5]))\n",
    "df[\"year\"] = df[\"time\"].apply(lambda x:int(x[6:8]))\n",
    "df[\"hour\"] =  df[\"time\"].apply(lambda x: int(x[9:11]) if str(x)[15] == 'A' else 12 + int(x[9:11])  )\n",
    "df[\"lon\"] = df[\"lon\"].apply(lambda x:abs(x)) #so that multinomialNB works (only with positive features)\n",
    "#creating the date at the datetime format (easier to deal with)\n",
    "df[ \"date\" ]= df[[\"month\" , \"day\" ,\"year\"]].apply(lambda x:pd.datetime(month = x['month'] , day = x['day']  , year = 2000+x[\"year\"]), axis = 1)\n",
    "df[\"weekday\"] =  df[\"date\"].apply(lambda x:x.weekday())\n"
   ]
  },
  {
   "cell_type": "code",
   "execution_count": 76,
   "metadata": {},
   "outputs": [
    {
     "data": {
      "image/png": "[encoded data removed]",
      "text/plain": [
       "<Figure size 432x288 with 1 Axes>"
      ]
     },
     "metadata": {
      "needs_background": "light"
     },
     "output_type": "display_data"
    }
   ],
   "source": [
    "#plotting the dataset with a different color depending on the severity (2,3)\n",
    "#longitude vs lattitude\n",
    "\n",
    "df2 = df.loc[df[\"severity\"] == 2]\n",
    "df3 = df.loc[df[\"severity\"] == 3]\n",
    "\n",
    "xx2 , yy2 = df2[\"lat\"] , -df2[\"lon\"]\n",
    "xx3 , yy3 = df3[\"lat\"] , -df3[\"lon\"]\n",
    "\n",
    "pts2 = plt.scatter(xx2,yy2,color = 'b' )\n",
    "pts3 = plt.scatter(xx3,yy3,color = 'r' )\n",
    "plt.legend((pts2, pts3), ('Severity = 2', 'Severity = 3'),loc='lower left')\n",
    "plt.title(\"Accident Severity Map\")\n",
    "plt.tight_layout()"
   ]
  },
  {
   "cell_type": "markdown",
   "metadata": {},
   "source": [
    "<b> > Univariate and different Analysis wrt differnt variables in the data sets are as follow :-</b>"
   ]
  },
  {
   "cell_type": "code",
   "execution_count": 77,
   "metadata": {},
   "outputs": [
    {
     "data": {
      "image/png": "[encoded data removed]",
      "text/plain": [
       "<Figure size 432x288 with 1 Axes>"
      ]
     },
     "metadata": {
      "needs_background": "light"
     },
     "output_type": "display_data"
    }
   ],
   "source": [
    "#classifiction , hour vs counts\n",
    "\n",
    "sns.countplot(y = \"hour\" , data = df , order = range(1,25))\n",
    "plt.title(\"Number of accidents by hour\")\n",
    "plt.tight_layout()"
   ]
  },
  {
   "cell_type": "code",
   "execution_count": 78,
   "metadata": {},
   "outputs": [
    {
     "data": {
      "image/png": "[encoded data removed]",
      "text/plain": [
       "<Figure size 432x288 with 1 Axes>"
      ]
     },
     "metadata": {
      "needs_background": "light"
     },
     "output_type": "display_data"
    }
   ],
   "source": [
    "#classification , month vs count\n",
    "\n",
    "sns.countplot(y = \"month\" , data = df)\n",
    "plt.title(\"Number of accidents by month\")\n",
    "plt.tight_layout()"
   ]
  },
  {
   "cell_type": "code",
   "execution_count": 79,
   "metadata": {},
   "outputs": [
    {
     "data": {
      "image/png": "[encoded data removed]",
      "text/plain": [
       "<Figure size 432x288 with 1 Axes>"
      ]
     },
     "metadata": {
      "needs_background": "light"
     },
     "output_type": "display_data"
    }
   ],
   "source": [
    "#classification , weekdays vs count\n",
    "\n",
    "sns.countplot(y = \"weekday\" , data = df)\n",
    "plt.title(\"Number of accidents by weekday\")\n",
    "plt.tight_layout()"
   ]
  },
  {
   "cell_type": "code",
   "execution_count": 80,
   "metadata": {},
   "outputs": [
    {
     "data": {
      "text/html": [
       "<div>\n",
       "<style scoped>\n",
       "    .dataframe tbody tr th:only-of-type {\n",
       "        vertical-align: middle;\n",
       "    }\n",
       "\n",
       "    .dataframe tbody tr th {\n",
       "        vertical-align: top;\n",
       "    }\n",
       "\n",
       "    .dataframe thead th {\n",
       "        text-align: right;\n",
       "    }\n",
       "</style>\n",
       "<table border=\"1\" class=\"dataframe\">\n",
       "  <thead>\n",
       "    <tr style=\"text-align: right;\">\n",
       "      <th></th>\n",
       "      <th>0</th>\n",
       "      <th>1</th>\n",
       "      <th>ratio</th>\n",
       "    </tr>\n",
       "  </thead>\n",
       "  <tbody>\n",
       "    <tr>\n",
       "      <th>22</th>\n",
       "      <td>1363</td>\n",
       "      <td>1301</td>\n",
       "      <td>1.047656</td>\n",
       "    </tr>\n",
       "    <tr>\n",
       "      <th>0</th>\n",
       "      <td>1402</td>\n",
       "      <td>1329</td>\n",
       "      <td>1.054929</td>\n",
       "    </tr>\n",
       "    <tr>\n",
       "      <th>11</th>\n",
       "      <td>1447</td>\n",
       "      <td>1355</td>\n",
       "      <td>1.067897</td>\n",
       "    </tr>\n",
       "    <tr>\n",
       "      <th>12</th>\n",
       "      <td>656</td>\n",
       "      <td>596</td>\n",
       "      <td>1.100671</td>\n",
       "    </tr>\n",
       "    <tr>\n",
       "      <th>21</th>\n",
       "      <td>1300</td>\n",
       "      <td>1061</td>\n",
       "      <td>1.225259</td>\n",
       "    </tr>\n",
       "    <tr>\n",
       "      <th>23</th>\n",
       "      <td>452</td>\n",
       "      <td>358</td>\n",
       "      <td>1.262570</td>\n",
       "    </tr>\n",
       "    <tr>\n",
       "      <th>1</th>\n",
       "      <td>1283</td>\n",
       "      <td>1015</td>\n",
       "      <td>1.264039</td>\n",
       "    </tr>\n",
       "    <tr>\n",
       "      <th>13</th>\n",
       "      <td>1132</td>\n",
       "      <td>892</td>\n",
       "      <td>1.269058</td>\n",
       "    </tr>\n",
       "    <tr>\n",
       "      <th>20</th>\n",
       "      <td>1040</td>\n",
       "      <td>778</td>\n",
       "      <td>1.336761</td>\n",
       "    </tr>\n",
       "    <tr>\n",
       "      <th>14</th>\n",
       "      <td>1494</td>\n",
       "      <td>1060</td>\n",
       "      <td>1.409434</td>\n",
       "    </tr>\n",
       "    <tr>\n",
       "      <th>15</th>\n",
       "      <td>1416</td>\n",
       "      <td>965</td>\n",
       "      <td>1.467358</td>\n",
       "    </tr>\n",
       "    <tr>\n",
       "      <th>18</th>\n",
       "      <td>993</td>\n",
       "      <td>673</td>\n",
       "      <td>1.475483</td>\n",
       "    </tr>\n",
       "    <tr>\n",
       "      <th>19</th>\n",
       "      <td>1017</td>\n",
       "      <td>682</td>\n",
       "      <td>1.491202</td>\n",
       "    </tr>\n",
       "    <tr>\n",
       "      <th>16</th>\n",
       "      <td>1123</td>\n",
       "      <td>731</td>\n",
       "      <td>1.536252</td>\n",
       "    </tr>\n",
       "    <tr>\n",
       "      <th>17</th>\n",
       "      <td>982</td>\n",
       "      <td>625</td>\n",
       "      <td>1.571200</td>\n",
       "    </tr>\n",
       "    <tr>\n",
       "      <th>10</th>\n",
       "      <td>341</td>\n",
       "      <td>217</td>\n",
       "      <td>1.571429</td>\n",
       "    </tr>\n",
       "    <tr>\n",
       "      <th>2</th>\n",
       "      <td>778</td>\n",
       "      <td>460</td>\n",
       "      <td>1.691304</td>\n",
       "    </tr>\n",
       "    <tr>\n",
       "      <th>9</th>\n",
       "      <td>317</td>\n",
       "      <td>177</td>\n",
       "      <td>1.790960</td>\n",
       "    </tr>\n",
       "    <tr>\n",
       "      <th>8</th>\n",
       "      <td>316</td>\n",
       "      <td>150</td>\n",
       "      <td>2.106667</td>\n",
       "    </tr>\n",
       "    <tr>\n",
       "      <th>7</th>\n",
       "      <td>318</td>\n",
       "      <td>147</td>\n",
       "      <td>2.163265</td>\n",
       "    </tr>\n",
       "    <tr>\n",
       "      <th>6</th>\n",
       "      <td>349</td>\n",
       "      <td>157</td>\n",
       "      <td>2.222930</td>\n",
       "    </tr>\n",
       "    <tr>\n",
       "      <th>5</th>\n",
       "      <td>446</td>\n",
       "      <td>192</td>\n",
       "      <td>2.322917</td>\n",
       "    </tr>\n",
       "    <tr>\n",
       "      <th>4</th>\n",
       "      <td>482</td>\n",
       "      <td>201</td>\n",
       "      <td>2.398010</td>\n",
       "    </tr>\n",
       "    <tr>\n",
       "      <th>3</th>\n",
       "      <td>497</td>\n",
       "      <td>174</td>\n",
       "      <td>2.856322</td>\n",
       "    </tr>\n",
       "  </tbody>\n",
       "</table>\n",
       "</div>"
      ],
      "text/plain": [
       "       0     1     ratio\n",
       "22  1363  1301  1.047656\n",
       "0   1402  1329  1.054929\n",
       "11  1447  1355  1.067897\n",
       "12   656   596  1.100671\n",
       "21  1300  1061  1.225259\n",
       "23   452   358  1.262570\n",
       "1   1283  1015  1.264039\n",
       "13  1132   892  1.269058\n",
       "20  1040   778  1.336761\n",
       "14  1494  1060  1.409434\n",
       "15  1416   965  1.467358\n",
       "18   993   673  1.475483\n",
       "19  1017   682  1.491202\n",
       "16  1123   731  1.536252\n",
       "17   982   625  1.571200\n",
       "10   341   217  1.571429\n",
       "2    778   460  1.691304\n",
       "9    317   177  1.790960\n",
       "8    316   150  2.106667\n",
       "7    318   147  2.163265\n",
       "6    349   157  2.222930\n",
       "5    446   192  2.322917\n",
       "4    482   201  2.398010\n",
       "3    497   174  2.856322"
      ]
     },
     "execution_count": 80,
     "metadata": {},
     "output_type": "execute_result"
    }
   ],
   "source": [
    "#ratio of severity ( 0 and 1 ) wrt time( hour)\n",
    "#here we find out that , why we need to \n",
    "#the outliers , additional information \n",
    "#this tells us the severity of accidents wrt time and when most of the accidents happens \n",
    "#and with what severity\n",
    "\n",
    "severity_by_hour = pd.crosstab(index = df[\"hour\"] , columns = df[\"severity\"] )\n",
    "severity_by_hour = pd.DataFrame(severity_by_hour.values)\n",
    "severity_by_hour[\"ratio\"] = severity_by_hour.apply(lambda x:x[0]/float(x[1]) , axis = 1)\n",
    "severity_by_hour.sort_values(by = \"ratio\")\n",
    "\n"
   ]
  },
  {
   "cell_type": "code",
   "execution_count": 81,
   "metadata": {},
   "outputs": [],
   "source": [
    "# correlation heatmap\n",
    "# df_corr = df[[\"lat\" , \"lon\" , \"month\" , \"year\" , \"hour\" , \"weekday\" , \"severity\"]]\n",
    "# correlation = df_corr.corr()\n",
    "# sns.heatmap(correlation)\n",
    "# plt.tight_layout()"
   ]
  },
  {
   "cell_type": "markdown",
   "metadata": {},
   "source": [
    "# > Machine Learning and Different Algorithm's to predict Accidents Severity "
   ]
  },
  {
   "cell_type": "markdown",
   "metadata": {},
   "source": [
    "<b>> Here we will create training and test sets to use with cross valiadion \n",
    "<br>> Also we are splitting the test size as 0.2  ( so its 20 % : test and 80 % : train)\n",
    "\n",
    "</b>"
   ]
  },
  {
   "cell_type": "code",
   "execution_count": 82,
   "metadata": {
    "scrolled": true
   },
   "outputs": [],
   "source": [
    "X = df[[\"month\" , \"hour\" , \"year\", \"weekday\" ,\"lon\" , \"lat\"]]\n",
    "y = df[\"severity\"].apply(lambda x:x-2) # shifting to 0-1 values instead of 2-3\n",
    "\n",
    "#here we assign test size as 20% of actual data set \n",
    "# random state is set as 42 ( or 1 ) also from the reference of \" The Hitchhiker's Guide to the Galaxy\" \n",
    "# we defined random state to get consistent and same results , regardless of the training iterations \n",
    "# so that the values in the train and test sets are homogenous\n",
    "\n",
    "from sklearn.cross_validation import train_test_split \n",
    "X_train, X_test, y_train, y_test = train_test_split(X, y, test_size=0.20, random_state=42) "
   ]
  },
  {
   "cell_type": "code",
   "execution_count": 83,
   "metadata": {},
   "outputs": [],
   "source": [
    "#using the metrics package\n",
    "#algorithm's func to print the results\n",
    "from sklearn.metrics import *\n",
    "import warnings\n",
    "warnings.filterwarnings(\"ignore\", category=DeprecationWarning) \n",
    "def printScores(y_test, y_pred, classif_name):    \n",
    "    print (\"--------------  \"  + classif_name + \"  ------------------\")\n",
    "    print (\"recall : %0.2f\" %  recall_score(y_test, y_pred) )\n",
    "    print (\"precision : %0.2f\" %  precision_score(y_test, y_pred))   \n",
    "    print (\"f1 : %0.2f\" %  f1_score(y_test, y_pred))\n",
    "    print (\"accuracy : %0.2f\" %  accuracy_score(y_test, y_pred))\n",
    "    print (\"---------------------------------------------------\")  "
   ]
  },
  {
   "cell_type": "markdown",
   "metadata": {},
   "source": [
    "<b>> Before using sophisticated and predefined models, let's see what results the worst classifier would give'</b>"
   ]
  },
  {
   "cell_type": "code",
   "execution_count": 84,
   "metadata": {},
   "outputs": [
    {
     "data": {
      "text/html": [
       "<div>\n",
       "<style scoped>\n",
       "    .dataframe tbody tr th:only-of-type {\n",
       "        vertical-align: middle;\n",
       "    }\n",
       "\n",
       "    .dataframe tbody tr th {\n",
       "        vertical-align: top;\n",
       "    }\n",
       "\n",
       "    .dataframe thead th {\n",
       "        text-align: right;\n",
       "    }\n",
       "</style>\n",
       "<table border=\"1\" class=\"dataframe\">\n",
       "  <thead>\n",
       "    <tr style=\"text-align: right;\">\n",
       "      <th></th>\n",
       "      <th>severity</th>\n",
       "    </tr>\n",
       "  </thead>\n",
       "  <tbody>\n",
       "    <tr>\n",
       "      <th>0</th>\n",
       "      <td>20944</td>\n",
       "    </tr>\n",
       "    <tr>\n",
       "      <th>1</th>\n",
       "      <td>15296</td>\n",
       "    </tr>\n",
       "  </tbody>\n",
       "</table>\n",
       "</div>"
      ],
      "text/plain": [
       "   severity\n",
       "0     20944\n",
       "1     15296"
      ]
     },
     "execution_count": 84,
     "metadata": {},
     "output_type": "execute_result"
    }
   ],
   "source": [
    "#basic model to check accurary (worst)\n",
    "\n",
    "sev = y.value_counts()\n",
    "pd.DataFrame(sev)"
   ]
  },
  {
   "cell_type": "code",
   "execution_count": 85,
   "metadata": {},
   "outputs": [
    {
     "name": "stdout",
     "output_type": "stream",
     "text": [
      "worst accuracy:  0.577924944812362\n"
     ]
    }
   ],
   "source": [
    "#here we will calculate the worst accuracy \n",
    "\n",
    "print (\"worst accuracy: \" , max(sev)/float(sum(sev)))"
   ]
  },
  {
   "cell_type": "markdown",
   "metadata": {},
   "source": [
    "<b>> below are some algoriths which we tested (differnet approaches)\n",
    "<br>> and we will chose the one with max accuracy and suitable for our model </b>"
   ]
  },
  {
   "cell_type": "code",
   "execution_count": 86,
   "metadata": {},
   "outputs": [],
   "source": [
    "#multinomial NB (it predicts everything to 0, the most common class)\n",
    "#we use bayes theorm and we assum here that every variable is \n",
    "#indepedenet here\n",
    "#here it does not take any parameters\n",
    "\n",
    "# from sklearn.naive_bayes import MultinomialNB\n",
    "# clf = MultinomialNB()\n",
    "# clf.fit(X_train,y_train)\n",
    "# y_pred = clf.predict(X_test)\n",
    "# printScores(y_test, y_pred, \"MultinomialNB\")   "
   ]
  },
  {
   "cell_type": "code",
   "execution_count": 87,
   "metadata": {},
   "outputs": [],
   "source": [
    "#knn \n",
    "\n",
    "#the distance func is being used here and the previous prediction \n",
    "#by KNN is being used , i.e 1, 3 ,7 \n",
    "#here it also non parametrized\n",
    "\n",
    "# from sklearn.neighbors import KNeighborsClassifier\n",
    "# for nb in [1,3,7]:\n",
    "#     print (\"nb neighbors: %d\" %nb)    \n",
    "#     clf = KNeighborsClassifier(n_neighbors=nb)\n",
    "#     clf.fit(X_train,y_train)\n",
    "#     y_pred = pd.Series(clf.predict(X_test))\n",
    "#     printScores(y_test, y_pred, \"KNeighborsClassifier\")"
   ]
  },
  {
   "cell_type": "code",
   "execution_count": 88,
   "metadata": {},
   "outputs": [
    {
     "name": "stdout",
     "output_type": "stream",
     "text": [
      "--------------  LogisticRegression  ------------------\n",
      "recall : 0.00\n",
      "precision : 0.00\n",
      "f1 : 0.00\n",
      "accuracy : 0.58\n",
      "---------------------------------------------------\n"
     ]
    }
   ],
   "source": [
    "#logreg (it predicts everything to 0, the most common class)\n",
    "# a predictive analysis , where we comapre a relation between binary varaible \n",
    "# and other ordinal and nominal and indepdendent variables\n",
    "#also here we are not using any paramneter's\n",
    "#use from training set and test sets \n",
    "#for cross valiadtion\n",
    "\n",
    "\n",
    "from sklearn.linear_model import LogisticRegression\n",
    "clf = LogisticRegression()\n",
    "clf.fit(X_train,y_train)\n",
    "y_pred = pd.Series(clf.predict(X_test))\n",
    "printScores(y_test, y_pred, \"LogisticRegression\")"
   ]
  },
  {
   "cell_type": "code",
   "execution_count": 89,
   "metadata": {},
   "outputs": [
    {
     "name": "stdout",
     "output_type": "stream",
     "text": [
      "--------------  tree  ------------------\n",
      "recall : 0.92\n",
      "precision : 0.91\n",
      "f1 : 0.91\n",
      "accuracy : 0.93\n",
      "---------------------------------------------------\n"
     ]
    }
   ],
   "source": [
    "#tree\n",
    "\n",
    "#structured tree where it containts root nodes , leaf node\n",
    "#each brach of the tre depicts outcome of the tree\n",
    "\n",
    "# use from training set and test sets \n",
    "#for cross valiadtion\n",
    "\n",
    "from sklearn import tree\n",
    "clf = tree.DecisionTreeClassifier()\n",
    "clf.fit(X_train,y_train)\n",
    "y_pred = clf.predict(X_test)\n",
    "printScores(y_test, y_pred, \"tree\")"
   ]
  },
  {
   "cell_type": "markdown",
   "metadata": {},
   "source": [
    "<b>> What are the most important features? </b>"
   ]
  },
  {
   "cell_type": "code",
   "execution_count": 90,
   "metadata": {},
   "outputs": [
    {
     "data": {
      "text/html": [
       "<div>\n",
       "<style scoped>\n",
       "    .dataframe tbody tr th:only-of-type {\n",
       "        vertical-align: middle;\n",
       "    }\n",
       "\n",
       "    .dataframe tbody tr th {\n",
       "        vertical-align: top;\n",
       "    }\n",
       "\n",
       "    .dataframe thead th {\n",
       "        text-align: right;\n",
       "    }\n",
       "</style>\n",
       "<table border=\"1\" class=\"dataframe\">\n",
       "  <thead>\n",
       "    <tr style=\"text-align: right;\">\n",
       "      <th></th>\n",
       "      <th>0</th>\n",
       "    </tr>\n",
       "  </thead>\n",
       "  <tbody>\n",
       "    <tr>\n",
       "      <th>month</th>\n",
       "      <td>3.642407</td>\n",
       "    </tr>\n",
       "    <tr>\n",
       "      <th>hour</th>\n",
       "      <td>5.165736</td>\n",
       "    </tr>\n",
       "    <tr>\n",
       "      <th>year</th>\n",
       "      <td>0.195794</td>\n",
       "    </tr>\n",
       "    <tr>\n",
       "      <th>weekday</th>\n",
       "      <td>2.977427</td>\n",
       "    </tr>\n",
       "    <tr>\n",
       "      <th>lon</th>\n",
       "      <td>44.700254</td>\n",
       "    </tr>\n",
       "    <tr>\n",
       "      <th>lat</th>\n",
       "      <td>43.318381</td>\n",
       "    </tr>\n",
       "  </tbody>\n",
       "</table>\n",
       "</div>"
      ],
      "text/plain": [
       "                 0\n",
       "month     3.642407\n",
       "hour      5.165736\n",
       "year      0.195794\n",
       "weekday   2.977427\n",
       "lon      44.700254\n",
       "lat      43.318381"
      ]
     },
     "execution_count": 90,
     "metadata": {},
     "output_type": "execute_result"
    }
   ],
   "source": [
    "pd.DataFrame(100*clf.feature_importances_ , index = X_train.columns)"
   ]
  },
  {
   "cell_type": "markdown",
   "metadata": {},
   "source": [
    "<b>\n",
    "> The position features (lat and lon) are undoubtedly the most important.\n",
    "<br>> On the other hand year doesn't provide much information.\n",
    "<br>> now taking the lat and lon as the primary source in the new training set\n",
    "<br>> we reapply the algorithm , because other values seems to less effecting \n",
    "<br>> Results are better when we only keep 2 predictors: \"lat\" and \"lon\".\n",
    "</b>"
   ]
  },
  {
   "cell_type": "code",
   "execution_count": 91,
   "metadata": {},
   "outputs": [],
   "source": [
    "# #SVM\n",
    "# from sklearn import svm\n",
    "# clf = svm.SVC()\n",
    "# clf.fit(X_train2, y_train)  \n",
    "# y_pred = clf.predict(X_test2)\n",
    "# printScores(y_test, y_pred, \"svm\")"
   ]
  },
  {
   "cell_type": "code",
   "execution_count": 92,
   "metadata": {},
   "outputs": [],
   "source": [
    "# #SVM linear\n",
    "# from sklearn import svm\n",
    "# clf = svm.SVC(kernel = \"linear\")\n",
    "# clf.fit(X_train2, y_train)  \n",
    "# y_pred = clf.predict(X_test2)\n",
    "# printScores(y_test, y_pred, \"linear svm\")"
   ]
  },
  {
   "cell_type": "code",
   "execution_count": 93,
   "metadata": {},
   "outputs": [],
   "source": [
    "# #multinomial NB (it predicts everything to 0, the most common class)\n",
    "# from sklearn.naive_bayes import MultinomialNB\n",
    "# clf = MultinomialNB()\n",
    "# clf.fit(X_train2,y_train)\n",
    "# y_pred = clf.predict(X_test2)\n",
    "# printScores(y_test, y_pred, \"MultinomialNB\")   "
   ]
  },
  {
   "cell_type": "code",
   "execution_count": 94,
   "metadata": {},
   "outputs": [
    {
     "name": "stdout",
     "output_type": "stream",
     "text": [
      "--------------  tree  ------------------\n",
      "recall : 0.96\n",
      "precision : 0.93\n",
      "f1 : 0.94\n",
      "accuracy : 0.95\n",
      "---------------------------------------------------\n"
     ]
    }
   ],
   "source": [
    "#tree\n",
    "#MODIFIED TRAINING SET of lat and longitude\n",
    "#this one is parametrized\n",
    "# use from training set and test sets , only 2 variables , lat and lon\n",
    "#for cross validation\n",
    "\n",
    "X_train2 , X_test2 = X_train[[\"lat\" , \"lon\" ]]  , X_test[[\"lat\" , \"lon\" ]]\n",
    "from sklearn import tree\n",
    "clf = tree.DecisionTreeClassifier()\n",
    "clf.fit(X_train2,y_train)\n",
    "y_pred = clf.predict(X_test2)\n",
    "printScores(y_test, y_pred, \"tree\")"
   ]
  },
  {
   "cell_type": "code",
   "execution_count": 95,
   "metadata": {},
   "outputs": [
    {
     "name": "stdout",
     "output_type": "stream",
     "text": [
      "--------------  RandomForestClassifier  ------------------\n",
      "recall : 0.96\n",
      "precision : 0.93\n",
      "f1 : 0.94\n",
      "accuracy : 0.95\n",
      "---------------------------------------------------\n"
     ]
    }
   ],
   "source": [
    "#random forest\n",
    "\n",
    "# use from training set and test sets \n",
    "# for cross valiadtion\n",
    "#n_estiamotor is 100 , as default from update of 2.10\n",
    "\n",
    "from sklearn.ensemble import RandomForestClassifier\n",
    "clf = RandomForestClassifier(n_estimators = 100)\n",
    "clf.fit(X_train2,y_train)\n",
    "y_pred = clf.predict(X_test2)\n",
    "printScores(y_test, y_pred, \"RandomForestClassifier\")"
   ]
  },
  {
   "cell_type": "markdown",
   "metadata": {},
   "source": [
    "<b>> As results seem to be better with only \"lat\" and \"lon\" as a feature, let's try the same models with only those predictors.</b>"
   ]
  },
  {
   "cell_type": "code",
   "execution_count": 96,
   "metadata": {},
   "outputs": [
    {
     "name": "stdout",
     "output_type": "stream",
     "text": [
      "--------------  LogisticRegression  ------------------\n",
      "recall : 0.00\n",
      "precision : 0.00\n",
      "f1 : 0.00\n",
      "accuracy : 0.58\n",
      "---------------------------------------------------\n"
     ]
    }
   ],
   "source": [
    "#logreg (it predicts everything to 0, the most common class)\n",
    "\n",
    "# use from training set and test sets \n",
    "#for cross valiadtion\n",
    "\n",
    "from sklearn.linear_model import LogisticRegression\n",
    "clf = LogisticRegression()\n",
    "clf.fit(X_train2,y_train)\n",
    "y_pred = pd.Series(clf.predict(X_test2))\n",
    "printScores(y_test, y_pred, \"LogisticRegression\")"
   ]
  },
  {
   "cell_type": "markdown",
   "metadata": {},
   "source": [
    "<b>\n",
    "<br>> The tree based model (decision tree and random forest) perform the best\n",
    "<br>> How big should be our training set? \n",
    "<br>> Is collecting more data worth it? And will it improve our model? \n",
    "</b>"
   ]
  },
  {
   "cell_type": "code",
   "execution_count": 97,
   "metadata": {},
   "outputs": [
    {
     "data": {
      "image/png": "[encoded data removed]",
      "text/plain": [
       "<Figure size 432x288 with 1 Axes>"
      ]
     },
     "metadata": {
      "needs_background": "light"
     },
     "output_type": "display_data"
    }
   ],
   "source": [
    "#drawing the prediction graph\n",
    "\n",
    "training_set_size = [0.05*i for i in range(1,21)]\n",
    "accuracy = []\n",
    "from sklearn import tree   \n",
    "for size in training_set_size:\n",
    "    # won't be using the test in that case...this is just a way of splitting the data\n",
    "    X_train2, X_test2, y_train2, y_test2 = train_test_split(X_train, y_train, test_size=1-size, random_state=42) \n",
    "    clf = tree.DecisionTreeClassifier()  \n",
    "    clf.fit(X_train2,y_train2)\n",
    "    y_pred = clf.predict(X_test)\n",
    "    #printScores(y_test, y_pred, \"tree\")\n",
    "    accuracy.append(  (X_train2.shape[0] ,accuracy_score(y_test, y_pred) )  )\n",
    "\n",
    "xx = [w[0] for w in accuracy]\n",
    "yy = [w[1] for w in accuracy]\n",
    "plt.scatter(xx,yy)\n",
    "plt.xlabel('Training Set Size')\n",
    "plt.ylabel('Accuracy')\n",
    "plt.title(\"Learning Curve: Accuracy vs training set size\")\n",
    "plt.tight_layout()"
   ]
  },
  {
   "cell_type": "code",
   "execution_count": 98,
   "metadata": {},
   "outputs": [
    {
     "data": {
      "text/html": [
       "<script>$(\"div.input\").hide()</script>"
      ],
      "text/plain": [
       "<IPython.core.display.HTML object>"
      ]
     },
     "metadata": {},
     "output_type": "display_data"
    },
    {
     "data": {
      "application/vnd.jupyter.widget-view+json": {
       "model_id": "3a9ecec3b51a432c858cc9be107a721f",
       "version_major": 2,
       "version_minor": 0
      },
      "text/plain": [
       "ToggleButton(value=False, description='Show code')"
      ]
     },
     "metadata": {},
     "output_type": "display_data"
    },
    {
     "data": {
      "text/html": [
       "<script>$(\"div.input\").show()</script>"
      ],
      "text/plain": [
       "<IPython.core.display.HTML object>"
      ]
     },
     "metadata": {},
     "output_type": "display_data"
    }
   ],
   "source": [
    "import ipywidgets as widgets\n",
    "from IPython.display import display, HTML\n",
    "\n",
    "javascript_functions = {False: \"hide()\", True: \"show()\"}\n",
    "button_descriptions  = {False: \"Show code\", True: \"Hide code\"}\n",
    "\n",
    "\n",
    "def toggle_code(state):\n",
    "\n",
    "    \"\"\"\n",
    "    Toggles the JavaScript show()/hide() function on the div.input element.\n",
    "    \"\"\"\n",
    "\n",
    "    output_string = \"<script>$(\\\"div.input\\\").{}</script>\"\n",
    "    output_args   = (javascript_functions[state],)\n",
    "    output        = output_string.format(*output_args)\n",
    "\n",
    "    display(HTML(output))\n",
    "\n",
    "\n",
    "def button_action(value):\n",
    "\n",
    "    \"\"\"\n",
    "    Calls the toggle_code function and updates the button description.\n",
    "    \"\"\"\n",
    "\n",
    "    state = value.new\n",
    "\n",
    "    toggle_code(state)\n",
    "\n",
    "    value.owner.description = button_descriptions[state]\n",
    "\n",
    "\n",
    "state = False\n",
    "toggle_code(state)\n",
    "\n",
    "button = widgets.ToggleButton(state, description = button_descriptions[state])\n",
    "button.observe(button_action, \"value\")\n",
    "\n",
    "display(button)"
   ]
  },
  {
   "cell_type": "code",
   "execution_count": null,
   "metadata": {},
   "outputs": [],
   "source": []
  }
 ],
 "metadata": {
  "kernelspec": {
   "display_name": "Python 3",
   "language": "python",
   "name": "python3"
  },
  "language_info": {
   "codemirror_mode": {
    "name": "ipython",
    "version": 3
   },
   "file_extension": ".py",
   "mimetype": "text/x-python",
   "name": "python",
   "nbconvert_exporter": "python",
   "pygments_lexer": "ipython3",
   "version": "3.7.0"
  }
 },
 "nbformat": 4,
 "nbformat_minor": 1
}
